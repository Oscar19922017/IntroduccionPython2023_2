{
  "nbformat": 4,
  "nbformat_minor": 0,
  "metadata": {
    "colab": {
      "provenance": [],
      "toc_visible": true,
      "mount_file_id": "1zO5o2SyQTLtSTjnGo99peroKByRHNunQ",
      "authorship_tag": "ABX9TyPWGEU90r/M4toElTXeCALH",
      "include_colab_link": true
    },
    "kernelspec": {
      "name": "python3",
      "display_name": "Python 3"
    },
    "language_info": {
      "name": "python"
    }
  },
  "cells": [
    {
      "cell_type": "markdown",
      "metadata": {
        "id": "view-in-github",
        "colab_type": "text"
      },
      "source": [
        "<a href=\"https://colab.research.google.com/github/Oscar19922017/IntroduccionPython2023_2/blob/main/IntroduccionPython2023_2.ipynb\" target=\"_parent\"><img src=\"https://colab.research.google.com/assets/colab-badge.svg\" alt=\"Open In Colab\"/></a>"
      ]
    },
    {
      "cell_type": "markdown",
      "source": [
        "# **1) Introducción a Python**\n",
        "\n",
        "Python es un lenguaje de programación de alto nivel, interpretado, interactivo y orientado a objetos. Fue creado por Guido van Rossum y su primera versión fue lanzada en 1991. Python es conocido por su simplicidad y legibilidad, lo que facilita el aprendizaje y la escritura de código. Se utiliza ampliamente en diversas áreas, como desarrollo web, análisis de datos, inteligencia artificial, automatización, desarrollo de videojuegos y muchas otras aplicaciones\n",
        "\n",
        "Python se ha utilizado en la creación de muchas aplicaciones y sitios web populares debido a su versatilidad y facilidad de uso. Algunos ejemplos notables incluyen:\n",
        "\n",
        "* Instagram\n",
        "* Spotify\n",
        "* Youtube\n",
        "* Dropbox\n",
        "* Reddit\n",
        "* Pinterest\n",
        "\n",
        "\n",
        "\n",
        "\n",
        "\n"
      ],
      "metadata": {
        "id": "0CvV76NVoOjF"
      }
    },
    {
      "cell_type": "markdown",
      "source": [
        "# **2) Python para Ciencia de Datos**\n",
        "\n",
        "Según lo revelado por los resultados de una encuesta realizada por Kaggle una plataforna de científicos de datos, Python es el más usado en cuanto a lenguaje de programación, seguido de SQL y R para el tema de ciencia de Datos\n",
        "\n",
        "Python es uno de los lenguajes de programación más populares y versátiles utilizados en la ciencia de datos. Gracias a su simplicidad y a su amplia variedad de bibliotecas especializadas, Python se ha convertido en una herramienta esencial para científicos de datos, analistas y desarrolladores de todo el mundo.\n",
        "\n",
        "A continuación se presentan algunas bibliotecas y herramientas clave de Python para la ciencia de datos:\n",
        "\n",
        "* NumPy: Biblioteca de Python para realizar operaciones matemáticas y de álgebra lineal con arreglos multidimensionales y funciones matriciales.\n",
        "* Pandas: Biblioteca para la manipulación y análisis de datos que proporciona estructuras de datos como DataFrames y Series, que facilitan el trabajo con datos estructurados.\n",
        "* Matplotlib: Biblioteca para la creación de gráficos y visualizaciones en 2D y 3D, permitiendo la representación de datos de manera efectiva y personalizada.\n",
        "* seaborn: Basada en Matplotlib, seaborn es una biblioteca de visualización de datos estadísticos que proporciona una interfaz de alto nivel para crear gráficos informativos y atractivos.\n",
        "* scikit-learn: Biblioteca de aprendizaje automático (machine learning) que incluye herramientas para clasificación, regresión, clustering, reducción de dimensionalidad, selección de modelos y preprocesamiento de datos.\n",
        "\n",
        "* PyCaret es una biblioteca de Python diseñada para facilitar y agilizar el proceso de construcción, entrenamiento, evaluación y ajuste de modelos de aprendizaje automático. PyCaret proporciona una interfaz de alto nivel que simplifica muchas de las tareas comunes asociadas con la construcción de modelos, lo que permite a los científicos de datos e ingenieros centrarse más en la toma de decisiones y en la experimentación con diferentes enfoques de modelado."
      ],
      "metadata": {
        "id": "NLyTX5TvqkI4"
      }
    },
    {
      "cell_type": "markdown",
      "source": [
        "# **3) Fundamentos de Programación en Python**"
      ],
      "metadata": {
        "id": "-82EvY8zxdFI"
      }
    },
    {
      "cell_type": "markdown",
      "source": [
        "## **3.1) Usando Python como Calculadora**"
      ],
      "metadata": {
        "id": "D5lR3CaWxkd0"
      }
    },
    {
      "cell_type": "code",
      "source": [
        "# sumar\n",
        "9+6"
      ],
      "metadata": {
        "colab": {
          "base_uri": "https://localhost:8080/"
        },
        "id": "yE-lDHHZpe9S",
        "outputId": "c38d6b3f-d073-4cc9-8193-bbc39d6d7c62"
      },
      "execution_count": 1,
      "outputs": [
        {
          "output_type": "execute_result",
          "data": {
            "text/plain": [
              "15"
            ]
          },
          "metadata": {},
          "execution_count": 1
        }
      ]
    },
    {
      "cell_type": "code",
      "source": [
        "print(6+9)"
      ],
      "metadata": {
        "colab": {
          "base_uri": "https://localhost:8080/"
        },
        "id": "Ah19o_lIx1z8",
        "outputId": "ff6e2cad-6cb4-43e4-c821-5f7daaacc4de"
      },
      "execution_count": 2,
      "outputs": [
        {
          "output_type": "stream",
          "name": "stdout",
          "text": [
            "15\n"
          ]
        }
      ]
    },
    {
      "cell_type": "code",
      "source": [
        "# Restar\n",
        "9-6"
      ],
      "metadata": {
        "colab": {
          "base_uri": "https://localhost:8080/"
        },
        "id": "BltA4SZUx5W-",
        "outputId": "1827e7ec-0d72-4223-a884-1651b7ce74fb"
      },
      "execution_count": 3,
      "outputs": [
        {
          "output_type": "execute_result",
          "data": {
            "text/plain": [
              "3"
            ]
          },
          "metadata": {},
          "execution_count": 3
        }
      ]
    },
    {
      "cell_type": "code",
      "source": [
        "# Dividir\n",
        "8/2"
      ],
      "metadata": {
        "colab": {
          "base_uri": "https://localhost:8080/"
        },
        "id": "3FgamfGex-vv",
        "outputId": "c6710b13-27e5-4bc2-ff02-3dfe04da0b9c"
      },
      "execution_count": 4,
      "outputs": [
        {
          "output_type": "execute_result",
          "data": {
            "text/plain": [
              "4.0"
            ]
          },
          "metadata": {},
          "execution_count": 4
        }
      ]
    },
    {
      "cell_type": "code",
      "source": [
        "# Multiplicar\n",
        "9*5"
      ],
      "metadata": {
        "colab": {
          "base_uri": "https://localhost:8080/"
        },
        "id": "tmQkvTy1yCf_",
        "outputId": "c5069edf-e674-40b2-dc35-4b28ffab6ed1"
      },
      "execution_count": 5,
      "outputs": [
        {
          "output_type": "execute_result",
          "data": {
            "text/plain": [
              "45"
            ]
          },
          "metadata": {},
          "execution_count": 5
        }
      ]
    },
    {
      "cell_type": "code",
      "source": [
        "# Potencia\n",
        "5**2"
      ],
      "metadata": {
        "colab": {
          "base_uri": "https://localhost:8080/"
        },
        "id": "LrRdL2ZuyGAg",
        "outputId": "e8b9e50e-7a6c-4de3-e6a6-1e8dcb6ff35f"
      },
      "execution_count": 6,
      "outputs": [
        {
          "output_type": "execute_result",
          "data": {
            "text/plain": [
              "25"
            ]
          },
          "metadata": {},
          "execution_count": 6
        }
      ]
    },
    {
      "cell_type": "markdown",
      "source": [
        "## **3.2) Sintaxis y Extructuras Básicas de Python**\n",
        "* Variables y tipo de datos\n",
        "* Operadores\n",
        "* Control de Flujo"
      ],
      "metadata": {
        "id": "sZ4Zd8mUyPOR"
      }
    },
    {
      "cell_type": "markdown",
      "source": [
        "### **3.2.1) Variables**\n",
        "¿Que es una Variable?\n",
        "\n",
        "\"En programación, una variable está formada por un espacio en el sistema de almacenaje (memoria principal de un ordenador) y un nombre simbólico (un identificador) que está asociado a dicho espacio. Ese espacio contiene una cantidad de información conocida o desconocida, es decir un valor. El nombre de la variable es la forma usual de referirse al valor almacenado\""
      ],
      "metadata": {
        "id": "u_XRx4NJyg4q"
      }
    },
    {
      "cell_type": "code",
      "source": [
        "## Variables Númericas\n",
        "EdadCliente=30"
      ],
      "metadata": {
        "id": "y034pPeTyJl_"
      },
      "execution_count": 7,
      "outputs": []
    },
    {
      "cell_type": "code",
      "source": [
        "type(EdadCliente)"
      ],
      "metadata": {
        "colab": {
          "base_uri": "https://localhost:8080/"
        },
        "id": "NyVIq9_CzvtJ",
        "outputId": "377e2003-5f1e-43ed-8fd6-966ddd1072ed"
      },
      "execution_count": 8,
      "outputs": [
        {
          "output_type": "execute_result",
          "data": {
            "text/plain": [
              "int"
            ]
          },
          "metadata": {},
          "execution_count": 8
        }
      ]
    },
    {
      "cell_type": "code",
      "source": [
        "Salario=2500000"
      ],
      "metadata": {
        "id": "gUXhowtFz845"
      },
      "execution_count": 9,
      "outputs": []
    },
    {
      "cell_type": "code",
      "source": [
        "Salario=500000"
      ],
      "metadata": {
        "id": "yFAdtvNg0DgK"
      },
      "execution_count": 10,
      "outputs": []
    },
    {
      "cell_type": "code",
      "source": [
        "print(Salario)"
      ],
      "metadata": {
        "colab": {
          "base_uri": "https://localhost:8080/"
        },
        "id": "31wlL2gK0HSL",
        "outputId": "8c5e5191-18d9-4221-810b-25503312b0e6"
      },
      "execution_count": 11,
      "outputs": [
        {
          "output_type": "stream",
          "name": "stdout",
          "text": [
            "500000\n"
          ]
        }
      ]
    },
    {
      "cell_type": "code",
      "source": [
        "## Variable Decimal"
      ],
      "metadata": {
        "id": "iXo43q520Jfp"
      },
      "execution_count": 12,
      "outputs": []
    },
    {
      "cell_type": "code",
      "source": [
        "Pi=3.14"
      ],
      "metadata": {
        "id": "27AU45NP0SCb"
      },
      "execution_count": 13,
      "outputs": []
    },
    {
      "cell_type": "code",
      "source": [
        "type(Pi)"
      ],
      "metadata": {
        "colab": {
          "base_uri": "https://localhost:8080/"
        },
        "id": "wh8XXFTJ0UPK",
        "outputId": "c8c79710-1ebb-442e-fde1-17e4ede728f5"
      },
      "execution_count": 14,
      "outputs": [
        {
          "output_type": "execute_result",
          "data": {
            "text/plain": [
              "float"
            ]
          },
          "metadata": {},
          "execution_count": 14
        }
      ]
    },
    {
      "cell_type": "code",
      "source": [
        "## Int a Float\n",
        "Salario_Decimal=float(Salario)"
      ],
      "metadata": {
        "id": "FtXP7C3Q0WK7"
      },
      "execution_count": 15,
      "outputs": []
    },
    {
      "cell_type": "code",
      "source": [
        "print(Salario_Decimal)"
      ],
      "metadata": {
        "colab": {
          "base_uri": "https://localhost:8080/"
        },
        "id": "RJNvJgpz0l69",
        "outputId": "3d108292-cb76-4552-f746-eb1c0c4548ba"
      },
      "execution_count": 16,
      "outputs": [
        {
          "output_type": "stream",
          "name": "stdout",
          "text": [
            "500000.0\n"
          ]
        }
      ]
    },
    {
      "cell_type": "code",
      "source": [
        "## Float a un Int\n",
        "Pi_Int=int(Pi)\n",
        "print(Pi_Int)"
      ],
      "metadata": {
        "colab": {
          "base_uri": "https://localhost:8080/"
        },
        "id": "6zamt7Pu0xC9",
        "outputId": "99d1b978-31d5-49c4-ca46-6ab8b3d9c9da"
      },
      "execution_count": 17,
      "outputs": [
        {
          "output_type": "stream",
          "name": "stdout",
          "text": [
            "3\n"
          ]
        }
      ]
    },
    {
      "cell_type": "code",
      "source": [
        "EdadCliente*5"
      ],
      "metadata": {
        "colab": {
          "base_uri": "https://localhost:8080/"
        },
        "id": "a_GHwDj302Y-",
        "outputId": "58c4e2bf-0834-4335-a7ee-07af6d060bf9"
      },
      "execution_count": 18,
      "outputs": [
        {
          "output_type": "execute_result",
          "data": {
            "text/plain": [
              "150"
            ]
          },
          "metadata": {},
          "execution_count": 18
        }
      ]
    },
    {
      "cell_type": "code",
      "source": [
        "EdadCliente/2"
      ],
      "metadata": {
        "colab": {
          "base_uri": "https://localhost:8080/"
        },
        "id": "lPth-vtI0-u-",
        "outputId": "902537f1-4426-438e-bd06-77bc3166acd5"
      },
      "execution_count": 19,
      "outputs": [
        {
          "output_type": "execute_result",
          "data": {
            "text/plain": [
              "15.0"
            ]
          },
          "metadata": {},
          "execution_count": 19
        }
      ]
    },
    {
      "cell_type": "code",
      "source": [
        "## Texto, \"\", ''\n",
        "Estudiante=\"Luz\""
      ],
      "metadata": {
        "id": "X8yvo4nS1Aju"
      },
      "execution_count": 20,
      "outputs": []
    },
    {
      "cell_type": "code",
      "source": [
        "type(Estudiante)"
      ],
      "metadata": {
        "colab": {
          "base_uri": "https://localhost:8080/"
        },
        "id": "uOs37hRR1Oae",
        "outputId": "a5c2c8a1-f748-4ed1-e861-70b1cf396a5e"
      },
      "execution_count": 21,
      "outputs": [
        {
          "output_type": "execute_result",
          "data": {
            "text/plain": [
              "str"
            ]
          },
          "metadata": {},
          "execution_count": 21
        }
      ]
    },
    {
      "cell_type": "code",
      "source": [
        "Apellido=\"Gomez\""
      ],
      "metadata": {
        "id": "_e7V6lr71QzQ"
      },
      "execution_count": 22,
      "outputs": []
    },
    {
      "cell_type": "code",
      "source": [
        "NombreCompleto=Estudiante +\"-\" + Apellido"
      ],
      "metadata": {
        "id": "En7l49zv1Upe"
      },
      "execution_count": 23,
      "outputs": []
    },
    {
      "cell_type": "code",
      "source": [
        "NombreCompleto"
      ],
      "metadata": {
        "colab": {
          "base_uri": "https://localhost:8080/",
          "height": 36
        },
        "id": "CDI8n3to1b9P",
        "outputId": "899fc673-9d30-4ed7-d152-efff1bb2799f"
      },
      "execution_count": 24,
      "outputs": [
        {
          "output_type": "execute_result",
          "data": {
            "text/plain": [
              "'Luz-Gomez'"
            ],
            "application/vnd.google.colaboratory.intrinsic+json": {
              "type": "string"
            }
          },
          "metadata": {},
          "execution_count": 24
        }
      ]
    },
    {
      "cell_type": "code",
      "source": [
        "NombreCompleto*10"
      ],
      "metadata": {
        "colab": {
          "base_uri": "https://localhost:8080/",
          "height": 36
        },
        "id": "SVkczRW_1cq_",
        "outputId": "988baab0-5fee-463c-f6cd-4e96fbe5930c"
      },
      "execution_count": 25,
      "outputs": [
        {
          "output_type": "execute_result",
          "data": {
            "text/plain": [
              "'Luz-GomezLuz-GomezLuz-GomezLuz-GomezLuz-GomezLuz-GomezLuz-GomezLuz-GomezLuz-GomezLuz-Gomez'"
            ],
            "application/vnd.google.colaboratory.intrinsic+json": {
              "type": "string"
            }
          },
          "metadata": {},
          "execution_count": 25
        }
      ]
    },
    {
      "cell_type": "code",
      "source": [
        "## Acceder a la información str, indexación, Inicia conatr posiciones desde cero\n",
        "NombreCompleto[0]"
      ],
      "metadata": {
        "colab": {
          "base_uri": "https://localhost:8080/",
          "height": 36
        },
        "id": "IqCbe5h51m8Q",
        "outputId": "ff70560a-183b-4479-8d2c-0f84a3b8f3f0"
      },
      "execution_count": 26,
      "outputs": [
        {
          "output_type": "execute_result",
          "data": {
            "text/plain": [
              "'L'"
            ],
            "application/vnd.google.colaboratory.intrinsic+json": {
              "type": "string"
            }
          },
          "metadata": {},
          "execution_count": 26
        }
      ]
    },
    {
      "cell_type": "code",
      "source": [
        "NombreCompleto[1]"
      ],
      "metadata": {
        "colab": {
          "base_uri": "https://localhost:8080/",
          "height": 36
        },
        "id": "eKwXHjXd13wS",
        "outputId": "3a4d60dd-c338-47da-e739-59652f1df76d"
      },
      "execution_count": 27,
      "outputs": [
        {
          "output_type": "execute_result",
          "data": {
            "text/plain": [
              "'u'"
            ],
            "application/vnd.google.colaboratory.intrinsic+json": {
              "type": "string"
            }
          },
          "metadata": {},
          "execution_count": 27
        }
      ]
    },
    {
      "cell_type": "code",
      "source": [
        "NombreCompleto[-1]"
      ],
      "metadata": {
        "colab": {
          "base_uri": "https://localhost:8080/",
          "height": 36
        },
        "id": "0_7RHbnC2DYz",
        "outputId": "cabb3b9d-61fc-4b7c-faf5-6c4afcf7b0bd"
      },
      "execution_count": 28,
      "outputs": [
        {
          "output_type": "execute_result",
          "data": {
            "text/plain": [
              "'z'"
            ],
            "application/vnd.google.colaboratory.intrinsic+json": {
              "type": "string"
            }
          },
          "metadata": {},
          "execution_count": 28
        }
      ]
    },
    {
      "cell_type": "code",
      "source": [
        "NombreCompleto[-2]"
      ],
      "metadata": {
        "colab": {
          "base_uri": "https://localhost:8080/",
          "height": 36
        },
        "id": "XNHR2Cgx2JNT",
        "outputId": "314144a1-419d-41ff-b415-5c117bae4756"
      },
      "execution_count": 29,
      "outputs": [
        {
          "output_type": "execute_result",
          "data": {
            "text/plain": [
              "'e'"
            ],
            "application/vnd.google.colaboratory.intrinsic+json": {
              "type": "string"
            }
          },
          "metadata": {},
          "execution_count": 29
        }
      ]
    },
    {
      "cell_type": "code",
      "source": [
        "NombreCompleto[-3]"
      ],
      "metadata": {
        "colab": {
          "base_uri": "https://localhost:8080/",
          "height": 36
        },
        "id": "bVbSHVws2Kpk",
        "outputId": "bc0272d6-f805-45d5-92d2-390b3113090c"
      },
      "execution_count": 30,
      "outputs": [
        {
          "output_type": "execute_result",
          "data": {
            "text/plain": [
              "'m'"
            ],
            "application/vnd.google.colaboratory.intrinsic+json": {
              "type": "string"
            }
          },
          "metadata": {},
          "execution_count": 30
        }
      ]
    },
    {
      "cell_type": "code",
      "source": [
        "## Separarlo\n",
        "NombreCompleto.split(\"-\")"
      ],
      "metadata": {
        "colab": {
          "base_uri": "https://localhost:8080/"
        },
        "id": "sbd0aUGA2MVl",
        "outputId": "1118f14f-9cb8-496a-8a38-77a033f486d8"
      },
      "execution_count": 31,
      "outputs": [
        {
          "output_type": "execute_result",
          "data": {
            "text/plain": [
              "['Luz', 'Gomez']"
            ]
          },
          "metadata": {},
          "execution_count": 31
        }
      ]
    },
    {
      "cell_type": "markdown",
      "source": [
        "### **3.2.2) Extructuras de Datos**\n",
        "\n",
        "Las estructuras de datos más comunes en Python son las listas, las tablas y los diccionarios"
      ],
      "metadata": {
        "id": "4geMU2tB3cLz"
      }
    },
    {
      "cell_type": "markdown",
      "source": [
        "#### **3.2.2.1) Listas**\n",
        "\n",
        "Una lista en Python es una estructura de datos formada por una secuencia ordenada de objetos"
      ],
      "metadata": {
        "id": "A90DYOOF3mzL"
      }
    },
    {
      "cell_type": "code",
      "source": [
        "# Lista se crear []\n",
        "Lista_Edad=[]"
      ],
      "metadata": {
        "id": "RZl0SGc43mTT"
      },
      "execution_count": 32,
      "outputs": []
    },
    {
      "cell_type": "code",
      "source": [
        "Lista_Edad"
      ],
      "metadata": {
        "colab": {
          "base_uri": "https://localhost:8080/"
        },
        "id": "jb_kPMa32V81",
        "outputId": "56d1f033-e127-4b5c-db24-5eade6239b6f"
      },
      "execution_count": 33,
      "outputs": [
        {
          "output_type": "execute_result",
          "data": {
            "text/plain": [
              "[]"
            ]
          },
          "metadata": {},
          "execution_count": 33
        }
      ]
    },
    {
      "cell_type": "code",
      "source": [
        "Lista_Edad=[62,25,35,45,25,18,49,37,85,100]"
      ],
      "metadata": {
        "id": "VGNYtMtd4f1h"
      },
      "execution_count": 34,
      "outputs": []
    },
    {
      "cell_type": "code",
      "source": [
        "print(Lista_Edad)"
      ],
      "metadata": {
        "colab": {
          "base_uri": "https://localhost:8080/"
        },
        "id": "kcZVNcN84maQ",
        "outputId": "62b6cddc-c7df-43ec-f839-b57ce13eb602"
      },
      "execution_count": 35,
      "outputs": [
        {
          "output_type": "stream",
          "name": "stdout",
          "text": [
            "[62, 25, 35, 45, 25, 18, 49, 37, 85, 100]\n"
          ]
        }
      ]
    },
    {
      "cell_type": "code",
      "source": [],
      "metadata": {
        "id": "kxBo0HG34pUP"
      },
      "execution_count": null,
      "outputs": []
    }
  ]
}