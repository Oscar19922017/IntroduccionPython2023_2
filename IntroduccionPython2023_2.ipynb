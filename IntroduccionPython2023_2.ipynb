{
  "nbformat": 4,
  "nbformat_minor": 0,
  "metadata": {
    "colab": {
      "provenance": [],
      "toc_visible": true,
      "mount_file_id": "1zO5o2SyQTLtSTjnGo99peroKByRHNunQ",
      "authorship_tag": "ABX9TyM51U1+gyMwCRnwgnBydP+U",
      "include_colab_link": true
    },
    "kernelspec": {
      "name": "python3",
      "display_name": "Python 3"
    },
    "language_info": {
      "name": "python"
    }
  },
  "cells": [
    {
      "cell_type": "markdown",
      "metadata": {
        "id": "view-in-github",
        "colab_type": "text"
      },
      "source": [
        "<a href=\"https://colab.research.google.com/github/Oscar19922017/IntroduccionPython2023_2/blob/main/IntroduccionPython2023_2.ipynb\" target=\"_parent\"><img src=\"https://colab.research.google.com/assets/colab-badge.svg\" alt=\"Open In Colab\"/></a>"
      ]
    },
    {
      "cell_type": "markdown",
      "source": [
        "# **1) Introducción a Python**\n",
        "\n",
        "Python es un lenguaje de programación de alto nivel, interpretado, interactivo y orientado a objetos. Fue creado por Guido van Rossum y su primera versión fue lanzada en 1991. Python es conocido por su simplicidad y legibilidad, lo que facilita el aprendizaje y la escritura de código. Se utiliza ampliamente en diversas áreas, como desarrollo web, análisis de datos, inteligencia artificial, automatización, desarrollo de videojuegos y muchas otras aplicaciones\n",
        "\n",
        "Python se ha utilizado en la creación de muchas aplicaciones y sitios web populares debido a su versatilidad y facilidad de uso. Algunos ejemplos notables incluyen:\n",
        "\n",
        "* Instagram\n",
        "* Spotify\n",
        "* Youtube\n",
        "* Dropbox\n",
        "* Reddit\n",
        "* Pinterest\n",
        "\n",
        "\n",
        "\n",
        "\n",
        "\n"
      ],
      "metadata": {
        "id": "0CvV76NVoOjF"
      }
    },
    {
      "cell_type": "markdown",
      "source": [
        "# **2) Python para Ciencia de Datos**\n",
        "\n",
        "Según lo revelado por los resultados de una encuesta realizada por Kaggle una plataforna de científicos de datos, Python es el más usado en cuanto a lenguaje de programación, seguido de SQL y R para el tema de ciencia de Datos\n",
        "\n",
        "Python es uno de los lenguajes de programación más populares y versátiles utilizados en la ciencia de datos. Gracias a su simplicidad y a su amplia variedad de bibliotecas especializadas, Python se ha convertido en una herramienta esencial para científicos de datos, analistas y desarrolladores de todo el mundo.\n",
        "\n",
        "A continuación se presentan algunas bibliotecas y herramientas clave de Python para la ciencia de datos:\n",
        "\n",
        "* NumPy: Biblioteca de Python para realizar operaciones matemáticas y de álgebra lineal con arreglos multidimensionales y funciones matriciales.\n",
        "* Pandas: Biblioteca para la manipulación y análisis de datos que proporciona estructuras de datos como DataFrames y Series, que facilitan el trabajo con datos estructurados.\n",
        "* Matplotlib: Biblioteca para la creación de gráficos y visualizaciones en 2D y 3D, permitiendo la representación de datos de manera efectiva y personalizada.\n",
        "* seaborn: Basada en Matplotlib, seaborn es una biblioteca de visualización de datos estadísticos que proporciona una interfaz de alto nivel para crear gráficos informativos y atractivos.\n",
        "* scikit-learn: Biblioteca de aprendizaje automático (machine learning) que incluye herramientas para clasificación, regresión, clustering, reducción de dimensionalidad, selección de modelos y preprocesamiento de datos.\n",
        "\n",
        "* PyCaret es una biblioteca de Python diseñada para facilitar y agilizar el proceso de construcción, entrenamiento, evaluación y ajuste de modelos de aprendizaje automático. PyCaret proporciona una interfaz de alto nivel que simplifica muchas de las tareas comunes asociadas con la construcción de modelos, lo que permite a los científicos de datos e ingenieros centrarse más en la toma de decisiones y en la experimentación con diferentes enfoques de modelado."
      ],
      "metadata": {
        "id": "NLyTX5TvqkI4"
      }
    },
    {
      "cell_type": "markdown",
      "source": [
        "# **3) Fundamentos de Programación en Python**"
      ],
      "metadata": {
        "id": "-82EvY8zxdFI"
      }
    },
    {
      "cell_type": "markdown",
      "source": [
        "## **3.1) Usando Python como Calculadora**"
      ],
      "metadata": {
        "id": "D5lR3CaWxkd0"
      }
    },
    {
      "cell_type": "code",
      "source": [
        "# sumar\n",
        "9+6"
      ],
      "metadata": {
        "colab": {
          "base_uri": "https://localhost:8080/"
        },
        "id": "yE-lDHHZpe9S",
        "outputId": "dda70fdf-3466-4b11-da78-241da140a288"
      },
      "execution_count": 41,
      "outputs": [
        {
          "output_type": "execute_result",
          "data": {
            "text/plain": [
              "15"
            ]
          },
          "metadata": {},
          "execution_count": 41
        }
      ]
    },
    {
      "cell_type": "code",
      "source": [
        "print(6+9)"
      ],
      "metadata": {
        "colab": {
          "base_uri": "https://localhost:8080/"
        },
        "id": "Ah19o_lIx1z8",
        "outputId": "6323b506-b33c-4680-8843-10fe71b9c994"
      },
      "execution_count": 42,
      "outputs": [
        {
          "output_type": "stream",
          "name": "stdout",
          "text": [
            "15\n"
          ]
        }
      ]
    },
    {
      "cell_type": "code",
      "source": [
        "# Restar\n",
        "9-6"
      ],
      "metadata": {
        "colab": {
          "base_uri": "https://localhost:8080/"
        },
        "id": "BltA4SZUx5W-",
        "outputId": "0e3f069d-f488-4b5f-b22d-ffdf83cac3cc"
      },
      "execution_count": 43,
      "outputs": [
        {
          "output_type": "execute_result",
          "data": {
            "text/plain": [
              "3"
            ]
          },
          "metadata": {},
          "execution_count": 43
        }
      ]
    },
    {
      "cell_type": "code",
      "source": [
        "# Dividir\n",
        "8/2"
      ],
      "metadata": {
        "colab": {
          "base_uri": "https://localhost:8080/"
        },
        "id": "3FgamfGex-vv",
        "outputId": "2046fbe6-26a7-4422-8c3b-fbfa2a408f94"
      },
      "execution_count": 44,
      "outputs": [
        {
          "output_type": "execute_result",
          "data": {
            "text/plain": [
              "4.0"
            ]
          },
          "metadata": {},
          "execution_count": 44
        }
      ]
    },
    {
      "cell_type": "code",
      "source": [
        "# Multiplicar\n",
        "9*5"
      ],
      "metadata": {
        "colab": {
          "base_uri": "https://localhost:8080/"
        },
        "id": "tmQkvTy1yCf_",
        "outputId": "e176b0ab-b6da-463d-a80b-9de7567b0c8a"
      },
      "execution_count": 45,
      "outputs": [
        {
          "output_type": "execute_result",
          "data": {
            "text/plain": [
              "45"
            ]
          },
          "metadata": {},
          "execution_count": 45
        }
      ]
    },
    {
      "cell_type": "code",
      "source": [
        "# Potencia\n",
        "5**2"
      ],
      "metadata": {
        "colab": {
          "base_uri": "https://localhost:8080/"
        },
        "id": "LrRdL2ZuyGAg",
        "outputId": "67a7b433-f86a-4765-ddc8-09361c3cb11c"
      },
      "execution_count": 46,
      "outputs": [
        {
          "output_type": "execute_result",
          "data": {
            "text/plain": [
              "25"
            ]
          },
          "metadata": {},
          "execution_count": 46
        }
      ]
    },
    {
      "cell_type": "markdown",
      "source": [
        "## **3.2) Sintaxis y Extructuras Básicas de Python**\n",
        "* Variables y tipo de datos\n",
        "* Operadores\n",
        "* Control de Flujo"
      ],
      "metadata": {
        "id": "sZ4Zd8mUyPOR"
      }
    },
    {
      "cell_type": "markdown",
      "source": [
        "### **3.2.1) Variables**\n",
        "¿Que es una Variable?\n",
        "\n",
        "\"En programación, una variable está formada por un espacio en el sistema de almacenaje (memoria principal de un ordenador) y un nombre simbólico (un identificador) que está asociado a dicho espacio. Ese espacio contiene una cantidad de información conocida o desconocida, es decir un valor. El nombre de la variable es la forma usual de referirse al valor almacenado\""
      ],
      "metadata": {
        "id": "u_XRx4NJyg4q"
      }
    },
    {
      "cell_type": "code",
      "source": [
        "## Variables Númericas\n",
        "EdadCliente=30"
      ],
      "metadata": {
        "id": "y034pPeTyJl_"
      },
      "execution_count": 47,
      "outputs": []
    },
    {
      "cell_type": "code",
      "source": [
        "type(EdadCliente)"
      ],
      "metadata": {
        "colab": {
          "base_uri": "https://localhost:8080/"
        },
        "id": "NyVIq9_CzvtJ",
        "outputId": "2fdea920-36d2-4e71-f587-f60c31ce6dd9"
      },
      "execution_count": 48,
      "outputs": [
        {
          "output_type": "execute_result",
          "data": {
            "text/plain": [
              "int"
            ]
          },
          "metadata": {},
          "execution_count": 48
        }
      ]
    },
    {
      "cell_type": "code",
      "source": [
        "Salario=2500000"
      ],
      "metadata": {
        "id": "gUXhowtFz845"
      },
      "execution_count": 49,
      "outputs": []
    },
    {
      "cell_type": "code",
      "source": [
        "Salario=500000"
      ],
      "metadata": {
        "id": "yFAdtvNg0DgK"
      },
      "execution_count": 50,
      "outputs": []
    },
    {
      "cell_type": "code",
      "source": [
        "print(Salario)"
      ],
      "metadata": {
        "colab": {
          "base_uri": "https://localhost:8080/"
        },
        "id": "31wlL2gK0HSL",
        "outputId": "9010619f-1e12-4999-8505-9f26adb37455"
      },
      "execution_count": 51,
      "outputs": [
        {
          "output_type": "stream",
          "name": "stdout",
          "text": [
            "500000\n"
          ]
        }
      ]
    },
    {
      "cell_type": "code",
      "source": [
        "## Variable Decimal"
      ],
      "metadata": {
        "id": "iXo43q520Jfp"
      },
      "execution_count": 52,
      "outputs": []
    },
    {
      "cell_type": "code",
      "source": [
        "Pi=3.14"
      ],
      "metadata": {
        "id": "27AU45NP0SCb"
      },
      "execution_count": 53,
      "outputs": []
    },
    {
      "cell_type": "code",
      "source": [
        "type(Pi)"
      ],
      "metadata": {
        "colab": {
          "base_uri": "https://localhost:8080/"
        },
        "id": "wh8XXFTJ0UPK",
        "outputId": "5af02db4-4340-4ec1-bdb6-1df640403e06"
      },
      "execution_count": 54,
      "outputs": [
        {
          "output_type": "execute_result",
          "data": {
            "text/plain": [
              "float"
            ]
          },
          "metadata": {},
          "execution_count": 54
        }
      ]
    },
    {
      "cell_type": "code",
      "source": [
        "## Int a Float\n",
        "Salario_Decimal=float(Salario)"
      ],
      "metadata": {
        "id": "FtXP7C3Q0WK7"
      },
      "execution_count": 55,
      "outputs": []
    },
    {
      "cell_type": "code",
      "source": [
        "print(Salario_Decimal)"
      ],
      "metadata": {
        "colab": {
          "base_uri": "https://localhost:8080/"
        },
        "id": "RJNvJgpz0l69",
        "outputId": "0c62072e-f31a-4238-fbad-6ae6472c3619"
      },
      "execution_count": 56,
      "outputs": [
        {
          "output_type": "stream",
          "name": "stdout",
          "text": [
            "500000.0\n"
          ]
        }
      ]
    },
    {
      "cell_type": "code",
      "source": [
        "## Float a un Int\n",
        "Pi_Int=int(Pi)\n",
        "print(Pi_Int)"
      ],
      "metadata": {
        "colab": {
          "base_uri": "https://localhost:8080/"
        },
        "id": "6zamt7Pu0xC9",
        "outputId": "54f273c2-f292-47a9-8e59-e8646117f6c5"
      },
      "execution_count": 57,
      "outputs": [
        {
          "output_type": "stream",
          "name": "stdout",
          "text": [
            "3\n"
          ]
        }
      ]
    },
    {
      "cell_type": "code",
      "source": [
        "EdadCliente*5"
      ],
      "metadata": {
        "colab": {
          "base_uri": "https://localhost:8080/"
        },
        "id": "a_GHwDj302Y-",
        "outputId": "86df174d-21a2-4ea4-a6de-9c277a28b909"
      },
      "execution_count": 58,
      "outputs": [
        {
          "output_type": "execute_result",
          "data": {
            "text/plain": [
              "150"
            ]
          },
          "metadata": {},
          "execution_count": 58
        }
      ]
    },
    {
      "cell_type": "code",
      "source": [
        "EdadCliente/2"
      ],
      "metadata": {
        "colab": {
          "base_uri": "https://localhost:8080/"
        },
        "id": "lPth-vtI0-u-",
        "outputId": "e3c44afc-75ea-44d8-838c-63965ec8c7e8"
      },
      "execution_count": 59,
      "outputs": [
        {
          "output_type": "execute_result",
          "data": {
            "text/plain": [
              "15.0"
            ]
          },
          "metadata": {},
          "execution_count": 59
        }
      ]
    },
    {
      "cell_type": "code",
      "source": [
        "## Texto, \"\", ''\n",
        "Estudiante=\"Luz\""
      ],
      "metadata": {
        "id": "X8yvo4nS1Aju"
      },
      "execution_count": 60,
      "outputs": []
    },
    {
      "cell_type": "code",
      "source": [
        "type(Estudiante)"
      ],
      "metadata": {
        "colab": {
          "base_uri": "https://localhost:8080/"
        },
        "id": "uOs37hRR1Oae",
        "outputId": "245e5fad-bf6b-43ac-d035-25d693266faf"
      },
      "execution_count": 61,
      "outputs": [
        {
          "output_type": "execute_result",
          "data": {
            "text/plain": [
              "str"
            ]
          },
          "metadata": {},
          "execution_count": 61
        }
      ]
    },
    {
      "cell_type": "code",
      "source": [
        "Apellido=\"Gomez\""
      ],
      "metadata": {
        "id": "_e7V6lr71QzQ"
      },
      "execution_count": 62,
      "outputs": []
    },
    {
      "cell_type": "code",
      "source": [
        "NombreCompleto=Estudiante +\"-\" + Apellido"
      ],
      "metadata": {
        "id": "En7l49zv1Upe"
      },
      "execution_count": 63,
      "outputs": []
    },
    {
      "cell_type": "code",
      "source": [
        "NombreCompleto"
      ],
      "metadata": {
        "colab": {
          "base_uri": "https://localhost:8080/",
          "height": 35
        },
        "id": "CDI8n3to1b9P",
        "outputId": "1c387523-03a2-4f6d-f03c-22759e56d932"
      },
      "execution_count": 64,
      "outputs": [
        {
          "output_type": "execute_result",
          "data": {
            "text/plain": [
              "'Luz-Gomez'"
            ],
            "application/vnd.google.colaboratory.intrinsic+json": {
              "type": "string"
            }
          },
          "metadata": {},
          "execution_count": 64
        }
      ]
    },
    {
      "cell_type": "code",
      "source": [
        "NombreCompleto*10"
      ],
      "metadata": {
        "colab": {
          "base_uri": "https://localhost:8080/",
          "height": 35
        },
        "id": "SVkczRW_1cq_",
        "outputId": "2de86c91-8d51-48d2-e82a-f6c6ed9d452e"
      },
      "execution_count": 65,
      "outputs": [
        {
          "output_type": "execute_result",
          "data": {
            "text/plain": [
              "'Luz-GomezLuz-GomezLuz-GomezLuz-GomezLuz-GomezLuz-GomezLuz-GomezLuz-GomezLuz-GomezLuz-Gomez'"
            ],
            "application/vnd.google.colaboratory.intrinsic+json": {
              "type": "string"
            }
          },
          "metadata": {},
          "execution_count": 65
        }
      ]
    },
    {
      "cell_type": "code",
      "source": [
        "## Acceder a la información str, indexación, Inicia conatr posiciones desde cero\n",
        "NombreCompleto[0]"
      ],
      "metadata": {
        "colab": {
          "base_uri": "https://localhost:8080/",
          "height": 35
        },
        "id": "IqCbe5h51m8Q",
        "outputId": "ea337d25-2fd0-40ab-8a55-1fd9763dc849"
      },
      "execution_count": 66,
      "outputs": [
        {
          "output_type": "execute_result",
          "data": {
            "text/plain": [
              "'L'"
            ],
            "application/vnd.google.colaboratory.intrinsic+json": {
              "type": "string"
            }
          },
          "metadata": {},
          "execution_count": 66
        }
      ]
    },
    {
      "cell_type": "code",
      "source": [
        "NombreCompleto[1]"
      ],
      "metadata": {
        "colab": {
          "base_uri": "https://localhost:8080/",
          "height": 35
        },
        "id": "eKwXHjXd13wS",
        "outputId": "83b11fbd-29f3-4edf-e6b2-6e6ae80472d9"
      },
      "execution_count": 67,
      "outputs": [
        {
          "output_type": "execute_result",
          "data": {
            "text/plain": [
              "'u'"
            ],
            "application/vnd.google.colaboratory.intrinsic+json": {
              "type": "string"
            }
          },
          "metadata": {},
          "execution_count": 67
        }
      ]
    },
    {
      "cell_type": "code",
      "source": [
        "NombreCompleto[-1]"
      ],
      "metadata": {
        "colab": {
          "base_uri": "https://localhost:8080/",
          "height": 35
        },
        "id": "0_7RHbnC2DYz",
        "outputId": "b5c21a27-aa7f-441b-d01a-fc877981dfab"
      },
      "execution_count": 68,
      "outputs": [
        {
          "output_type": "execute_result",
          "data": {
            "text/plain": [
              "'z'"
            ],
            "application/vnd.google.colaboratory.intrinsic+json": {
              "type": "string"
            }
          },
          "metadata": {},
          "execution_count": 68
        }
      ]
    },
    {
      "cell_type": "code",
      "source": [
        "NombreCompleto[-2]"
      ],
      "metadata": {
        "colab": {
          "base_uri": "https://localhost:8080/",
          "height": 35
        },
        "id": "XNHR2Cgx2JNT",
        "outputId": "97d45ebf-fa28-417f-b115-d4b5009dd76f"
      },
      "execution_count": 69,
      "outputs": [
        {
          "output_type": "execute_result",
          "data": {
            "text/plain": [
              "'e'"
            ],
            "application/vnd.google.colaboratory.intrinsic+json": {
              "type": "string"
            }
          },
          "metadata": {},
          "execution_count": 69
        }
      ]
    },
    {
      "cell_type": "code",
      "source": [
        "NombreCompleto[-3]"
      ],
      "metadata": {
        "colab": {
          "base_uri": "https://localhost:8080/",
          "height": 35
        },
        "id": "bVbSHVws2Kpk",
        "outputId": "99103257-98af-47f3-adb8-6f6a386d89e5"
      },
      "execution_count": 70,
      "outputs": [
        {
          "output_type": "execute_result",
          "data": {
            "text/plain": [
              "'m'"
            ],
            "application/vnd.google.colaboratory.intrinsic+json": {
              "type": "string"
            }
          },
          "metadata": {},
          "execution_count": 70
        }
      ]
    },
    {
      "cell_type": "code",
      "source": [
        "## Separarlo\n",
        "NombreCompleto.split(\"-\")"
      ],
      "metadata": {
        "colab": {
          "base_uri": "https://localhost:8080/"
        },
        "id": "sbd0aUGA2MVl",
        "outputId": "c981e8e7-6221-4d4d-d6e2-5482fd0e860a"
      },
      "execution_count": 71,
      "outputs": [
        {
          "output_type": "execute_result",
          "data": {
            "text/plain": [
              "['Luz', 'Gomez']"
            ]
          },
          "metadata": {},
          "execution_count": 71
        }
      ]
    },
    {
      "cell_type": "markdown",
      "source": [
        "### **3.2.2) Extructuras de Datos**\n",
        "\n",
        "Las estructuras de datos más comunes en Python son las listas, las tablas y los diccionarios"
      ],
      "metadata": {
        "id": "4geMU2tB3cLz"
      }
    },
    {
      "cell_type": "markdown",
      "source": [
        "#### **3.2.2.1) Listas**\n",
        "\n",
        "Una lista en Python es una estructura de datos formada por una secuencia ordenada de objetos"
      ],
      "metadata": {
        "id": "A90DYOOF3mzL"
      }
    },
    {
      "cell_type": "code",
      "source": [
        "# Lista se crear []\n",
        "Lista_Edad=[]"
      ],
      "metadata": {
        "id": "RZl0SGc43mTT"
      },
      "execution_count": 72,
      "outputs": []
    },
    {
      "cell_type": "code",
      "source": [
        "Lista_Edad"
      ],
      "metadata": {
        "colab": {
          "base_uri": "https://localhost:8080/"
        },
        "id": "jb_kPMa32V81",
        "outputId": "c2605430-429c-44af-e8ab-364ee8e912b3"
      },
      "execution_count": 73,
      "outputs": [
        {
          "output_type": "execute_result",
          "data": {
            "text/plain": [
              "[]"
            ]
          },
          "metadata": {},
          "execution_count": 73
        }
      ]
    },
    {
      "cell_type": "code",
      "source": [
        "Lista_Edad=[62,25,35,45,25,18,49,37,85,100]"
      ],
      "metadata": {
        "id": "VGNYtMtd4f1h"
      },
      "execution_count": 74,
      "outputs": []
    },
    {
      "cell_type": "code",
      "source": [
        "print(Lista_Edad)"
      ],
      "metadata": {
        "colab": {
          "base_uri": "https://localhost:8080/"
        },
        "id": "kcZVNcN84maQ",
        "outputId": "668befa9-0388-40aa-b18d-fe942d1168b8"
      },
      "execution_count": 75,
      "outputs": [
        {
          "output_type": "stream",
          "name": "stdout",
          "text": [
            "[62, 25, 35, 45, 25, 18, 49, 37, 85, 100]\n"
          ]
        }
      ]
    },
    {
      "cell_type": "code",
      "source": [
        "## Conocer el numero de elementos\n",
        "print(len(Lista_Edad))"
      ],
      "metadata": {
        "id": "kxBo0HG34pUP",
        "colab": {
          "base_uri": "https://localhost:8080/"
        },
        "outputId": "98061e6c-f7e4-45da-e1a9-c4157b8e63a1"
      },
      "execution_count": 76,
      "outputs": [
        {
          "output_type": "stream",
          "name": "stdout",
          "text": [
            "10\n"
          ]
        }
      ]
    },
    {
      "cell_type": "code",
      "source": [
        "## Acceder a la información, como indexación (posición), incia a contar desde cero"
      ],
      "metadata": {
        "id": "hGQEBFxJtKYa"
      },
      "execution_count": 81,
      "outputs": []
    },
    {
      "cell_type": "code",
      "source": [
        "print(Lista_Edad[1])"
      ],
      "metadata": {
        "colab": {
          "base_uri": "https://localhost:8080/"
        },
        "id": "PGtOS4uZtaB-",
        "outputId": "6fe3cacf-dc52-4f0e-864e-b0cba0f47334"
      },
      "execution_count": 82,
      "outputs": [
        {
          "output_type": "stream",
          "name": "stdout",
          "text": [
            "25\n"
          ]
        }
      ]
    },
    {
      "cell_type": "code",
      "source": [
        "print(Lista_Edad[0])"
      ],
      "metadata": {
        "colab": {
          "base_uri": "https://localhost:8080/"
        },
        "id": "sKYJvS0ItoD_",
        "outputId": "6f39e4da-0b9a-47f4-cc75-7bc26686a55f"
      },
      "execution_count": 83,
      "outputs": [
        {
          "output_type": "stream",
          "name": "stdout",
          "text": [
            "62\n"
          ]
        }
      ]
    },
    {
      "cell_type": "code",
      "source": [
        "## Aceder al ultimo dato con -1\n",
        "print(Lista_Edad[-1])"
      ],
      "metadata": {
        "colab": {
          "base_uri": "https://localhost:8080/"
        },
        "id": "Ti_4ynvEtpsg",
        "outputId": "bead6fd1-2c5e-4f1d-e155-9913565baa7b"
      },
      "execution_count": 84,
      "outputs": [
        {
          "output_type": "stream",
          "name": "stdout",
          "text": [
            "100\n"
          ]
        }
      ]
    },
    {
      "cell_type": "code",
      "source": [
        "print(Lista_Edad[-2])"
      ],
      "metadata": {
        "colab": {
          "base_uri": "https://localhost:8080/"
        },
        "id": "VUsKwtp1tzQQ",
        "outputId": "45c38f74-3517-4ca5-aee9-c21e8410c76e"
      },
      "execution_count": 85,
      "outputs": [
        {
          "output_type": "stream",
          "name": "stdout",
          "text": [
            "85\n"
          ]
        }
      ]
    },
    {
      "cell_type": "code",
      "source": [
        "print(Lista_Edad[-3])"
      ],
      "metadata": {
        "colab": {
          "base_uri": "https://localhost:8080/"
        },
        "id": "24OEWO8Tt1oA",
        "outputId": "459cdcef-bdf6-49ca-96d6-79ee9d274c0d"
      },
      "execution_count": 86,
      "outputs": [
        {
          "output_type": "stream",
          "name": "stdout",
          "text": [
            "37\n"
          ]
        }
      ]
    },
    {
      "cell_type": "code",
      "source": [
        "## Secuencia\n",
        "print(Lista_Edad[0:2]) #  revisar indexación no continua"
      ],
      "metadata": {
        "colab": {
          "base_uri": "https://localhost:8080/"
        },
        "id": "b4G0Kc01t3Qi",
        "outputId": "471a2893-981e-4881-c135-059128e0c678"
      },
      "execution_count": 100,
      "outputs": [
        {
          "output_type": "stream",
          "name": "stdout",
          "text": [
            "[62, 25]\n"
          ]
        }
      ]
    },
    {
      "cell_type": "code",
      "source": [
        "## Agregar Datos Nuevos (Append, agrega al final)"
      ],
      "metadata": {
        "id": "AF2S4jBXt9oS"
      },
      "execution_count": 101,
      "outputs": []
    },
    {
      "cell_type": "code",
      "source": [
        "Lista_Edad.append(17)"
      ],
      "metadata": {
        "id": "EBSHnjPRuM6E"
      },
      "execution_count": 102,
      "outputs": []
    },
    {
      "cell_type": "code",
      "source": [
        "print(Lista_Edad)"
      ],
      "metadata": {
        "colab": {
          "base_uri": "https://localhost:8080/"
        },
        "id": "BLo3fu_3uTyl",
        "outputId": "d581d5c3-3aa3-45c8-f29f-057de15b480a"
      },
      "execution_count": 103,
      "outputs": [
        {
          "output_type": "stream",
          "name": "stdout",
          "text": [
            "[62, 25, 35, 45, 25, 18, 49, 37, 85, 100, 17, 17]\n"
          ]
        }
      ]
    },
    {
      "cell_type": "code",
      "source": [
        "len(Lista_Edad) #"
      ],
      "metadata": {
        "colab": {
          "base_uri": "https://localhost:8080/"
        },
        "id": "-Y4W8MF2uWvF",
        "outputId": "8b549cfa-3232-4190-96d8-1e719fa77036"
      },
      "execution_count": 104,
      "outputs": [
        {
          "output_type": "execute_result",
          "data": {
            "text/plain": [
              "12"
            ]
          },
          "metadata": {},
          "execution_count": 104
        }
      ]
    },
    {
      "cell_type": "code",
      "source": [
        "Lista_Edad[0::2]"
      ],
      "metadata": {
        "colab": {
          "base_uri": "https://localhost:8080/"
        },
        "id": "0xSt0f5Xuld3",
        "outputId": "934c0c75-bea6-43fe-a7d5-c8619f318181"
      },
      "execution_count": 106,
      "outputs": [
        {
          "output_type": "execute_result",
          "data": {
            "text/plain": [
              "[62, 35, 25, 49, 85, 17]"
            ]
          },
          "metadata": {},
          "execution_count": 106
        }
      ]
    },
    {
      "cell_type": "code",
      "source": [
        "## Agregar datos por posición con insert\n",
        "Lista_Edad.insert(0,80)"
      ],
      "metadata": {
        "id": "i6L3yzPhyDb7"
      },
      "execution_count": 107,
      "outputs": []
    },
    {
      "cell_type": "code",
      "source": [
        "Lista_Edad"
      ],
      "metadata": {
        "colab": {
          "base_uri": "https://localhost:8080/"
        },
        "id": "cR2Eu4huyX7x",
        "outputId": "689bd309-1d07-4164-a9a6-cea49524e637"
      },
      "execution_count": 108,
      "outputs": [
        {
          "output_type": "execute_result",
          "data": {
            "text/plain": [
              "[80, 62, 25, 35, 45, 25, 18, 49, 37, 85, 100, 17, 17]"
            ]
          },
          "metadata": {},
          "execution_count": 108
        }
      ]
    },
    {
      "cell_type": "markdown",
      "source": [
        "**Solicitar información al usuario**"
      ],
      "metadata": {
        "id": "yqDG8XQ4yd14"
      }
    },
    {
      "cell_type": "code",
      "source": [
        "Nombre=input(\"Ingrese su nombre please\")"
      ],
      "metadata": {
        "colab": {
          "base_uri": "https://localhost:8080/"
        },
        "id": "qmLKeD4kyYrC",
        "outputId": "f8eb033d-0230-41b9-feeb-35c452a535ef"
      },
      "execution_count": 109,
      "outputs": [
        {
          "name": "stdout",
          "output_type": "stream",
          "text": [
            "Ingrese su nombre pleaseOscar\n"
          ]
        }
      ]
    },
    {
      "cell_type": "code",
      "source": [
        "Nombre"
      ],
      "metadata": {
        "colab": {
          "base_uri": "https://localhost:8080/",
          "height": 35
        },
        "id": "9hqwe98IynRQ",
        "outputId": "4e7c5250-cd91-4387-fe69-a5b937e14477"
      },
      "execution_count": 110,
      "outputs": [
        {
          "output_type": "execute_result",
          "data": {
            "text/plain": [
              "'Oscar'"
            ],
            "application/vnd.google.colaboratory.intrinsic+json": {
              "type": "string"
            }
          },
          "metadata": {},
          "execution_count": 110
        }
      ]
    },
    {
      "cell_type": "code",
      "source": [
        "Edad=input(\"Ingrese su Edad please\")"
      ],
      "metadata": {
        "colab": {
          "base_uri": "https://localhost:8080/"
        },
        "id": "IPGTDu8-yqXR",
        "outputId": "36475bd2-f90f-43fc-dd65-8ad57174f352"
      },
      "execution_count": 111,
      "outputs": [
        {
          "name": "stdout",
          "output_type": "stream",
          "text": [
            "Ingrese su Edad please30\n"
          ]
        }
      ]
    },
    {
      "cell_type": "code",
      "source": [
        "Edad"
      ],
      "metadata": {
        "colab": {
          "base_uri": "https://localhost:8080/",
          "height": 35
        },
        "id": "TUpQyhqJyxPx",
        "outputId": "517a00f0-65c6-447a-eb90-a7550bdb7f8b"
      },
      "execution_count": 112,
      "outputs": [
        {
          "output_type": "execute_result",
          "data": {
            "text/plain": [
              "'30'"
            ],
            "application/vnd.google.colaboratory.intrinsic+json": {
              "type": "string"
            }
          },
          "metadata": {},
          "execution_count": 112
        }
      ]
    },
    {
      "cell_type": "markdown",
      "source": [
        "**Ejercicio**\n",
        "\n",
        "Ejercicio 1: Encuentre el área de un triángulo rectángulo isósceles a partir de la longitud de sus catetos, ingresados por el usuario. Recuerde que un triángulo isósceles tiene dos lados iguales y que el área de un triángulo está dada por: (base * altura)/2"
      ],
      "metadata": {
        "id": "dK3icBIwzByj"
      }
    },
    {
      "cell_type": "code",
      "source": [
        "# los input siempre son cades string\n",
        "base=int(input(\"Ingrese la base del triangulo\"))\n",
        "altura=int(input(\"Ingrese la altura del triangulo\"))\n",
        "Area= (base*altura)/2\n",
        "print(f'El area del trinagulo es {Area}')"
      ],
      "metadata": {
        "colab": {
          "base_uri": "https://localhost:8080/"
        },
        "id": "pC2Dcg1Hyy_B",
        "outputId": "75853aa5-b5e3-47c1-bbeb-93891f5ce02a"
      },
      "execution_count": 118,
      "outputs": [
        {
          "output_type": "stream",
          "name": "stdout",
          "text": [
            "Ingrese la base del triangulo25\n",
            "Ingrese la altura del triangulo9\n",
            "El area del trinagulo es 112.5\n"
          ]
        }
      ]
    },
    {
      "cell_type": "code",
      "source": [
        "print(f'El area es : {Area}')"
      ],
      "metadata": {
        "colab": {
          "base_uri": "https://localhost:8080/"
        },
        "id": "nLir-Qco16in",
        "outputId": "fb12123b-779d-4669-f7a4-66a78f7c0436"
      },
      "execution_count": 121,
      "outputs": [
        {
          "output_type": "stream",
          "name": "stdout",
          "text": [
            "El area es : 112.5\n"
          ]
        }
      ]
    },
    {
      "cell_type": "markdown",
      "source": [
        "Ejercicio2: Pedir al usuario 5 numeros y mostrarlos en lista"
      ],
      "metadata": {
        "id": "IpCJ4p_31s0I"
      }
    },
    {
      "cell_type": "code",
      "source": [
        "numero1=int(input(\"ingrese el 1er numero \"))\n",
        "numero2=int(input(\"ingrese el 2do numero \"))\n",
        "numero3=int(input(\"ingrese el 3er numero \"))\n",
        "numero4=int(input(\"ingrese el 4to numero \"))\n",
        "numero5=int(input(\"ingrese el 5to numero \"))\n",
        "Lista=[numero1,numero2,numero3,numero4,numero5]\n",
        "print(Lista)"
      ],
      "metadata": {
        "colab": {
          "base_uri": "https://localhost:8080/"
        },
        "id": "2Qv2DqGW1nsW",
        "outputId": "8a9e2c1b-3b2d-40c2-92f7-39a6628c48d8"
      },
      "execution_count": 123,
      "outputs": [
        {
          "output_type": "stream",
          "name": "stdout",
          "text": [
            "ingrese el 1er numero 1\n",
            "ingrese el 2do numero 2\n",
            "ingrese el 3er numero 3\n",
            "ingrese el 4to numero 4\n",
            "ingrese el 5to numero 5\n",
            "[1, 2, 3, 4, 5]\n"
          ]
        }
      ]
    },
    {
      "cell_type": "code",
      "source": [
        "Lista_Mixta=[\"Juan\",23,[1,2,3]]"
      ],
      "metadata": {
        "id": "RMlmpo7Q1OAD"
      },
      "execution_count": 125,
      "outputs": []
    },
    {
      "cell_type": "code",
      "source": [
        "Lista_Mixta[-1][0]"
      ],
      "metadata": {
        "colab": {
          "base_uri": "https://localhost:8080/"
        },
        "id": "e9jyoIEx3nly",
        "outputId": "f009b5e8-f8f5-4946-d667-17c0e9feea16"
      },
      "execution_count": 128,
      "outputs": [
        {
          "output_type": "execute_result",
          "data": {
            "text/plain": [
              "1"
            ]
          },
          "metadata": {},
          "execution_count": 128
        }
      ]
    },
    {
      "cell_type": "code",
      "source": [
        "Lista_Mixta[0]"
      ],
      "metadata": {
        "colab": {
          "base_uri": "https://localhost:8080/",
          "height": 35
        },
        "id": "7HMBxbP-3p-z",
        "outputId": "13fbffc5-34d6-41ba-d13f-3ccb2e9a31f0"
      },
      "execution_count": 129,
      "outputs": [
        {
          "output_type": "execute_result",
          "data": {
            "text/plain": [
              "'Juan'"
            ],
            "application/vnd.google.colaboratory.intrinsic+json": {
              "type": "string"
            }
          },
          "metadata": {},
          "execution_count": 129
        }
      ]
    },
    {
      "cell_type": "markdown",
      "source": [
        "#### **3.2.2.2) Diccionarios**\n",
        "\n",
        "En Python, un diccionario es una estructura de datos que permite almacenar pares clave-valor. Cada elemento en un diccionario se compone de una clave y un valor asociado. Las claves en un diccionario deben ser únicas y los valores pueden ser cualquier objeto de Python, como números, cadenas, listas o incluso otros diccionarios.\n",
        "\n",
        "Los diccionarios en Python se crean utilizando llaves ({}) y los elementos se separan por comas. Cada elemento se compone de una clave y un valor separados por dos puntos (:). Por ejemplo, el siguiente código crea un diccionario con tres elementos:\n",
        "\n"
      ],
      "metadata": {
        "id": "q7ZCqg1o31Aj"
      }
    },
    {
      "cell_type": "code",
      "source": [
        "PreciosFrutas={\"Manzana\":9000,\"banana\":500,\"naranja\":3500}"
      ],
      "metadata": {
        "id": "2ofdmQPO3x7D"
      },
      "execution_count": 130,
      "outputs": []
    },
    {
      "cell_type": "code",
      "source": [
        "PreciosFrutas"
      ],
      "metadata": {
        "colab": {
          "base_uri": "https://localhost:8080/"
        },
        "id": "11x8OWJD4d_q",
        "outputId": "d38ccd13-9871-404a-c5ca-cd19f070d6ac"
      },
      "execution_count": 131,
      "outputs": [
        {
          "output_type": "execute_result",
          "data": {
            "text/plain": [
              "{'Manzana': 9000, 'banana': 500, 'naranja': 3500}"
            ]
          },
          "metadata": {},
          "execution_count": 131
        }
      ]
    },
    {
      "cell_type": "code",
      "source": [
        "PreciosFrutas.keys()"
      ],
      "metadata": {
        "colab": {
          "base_uri": "https://localhost:8080/"
        },
        "id": "krkzahJp4fMp",
        "outputId": "0f0c4048-dbb8-48dd-f516-03a9341d4971"
      },
      "execution_count": 132,
      "outputs": [
        {
          "output_type": "execute_result",
          "data": {
            "text/plain": [
              "dict_keys(['Manzana', 'banana', 'naranja'])"
            ]
          },
          "metadata": {},
          "execution_count": 132
        }
      ]
    },
    {
      "cell_type": "code",
      "source": [
        "PreciosFrutas.values()"
      ],
      "metadata": {
        "colab": {
          "base_uri": "https://localhost:8080/"
        },
        "id": "e3xfa4i-4jBa",
        "outputId": "66ae677c-c25d-475e-d552-bc369399ae84"
      },
      "execution_count": 133,
      "outputs": [
        {
          "output_type": "execute_result",
          "data": {
            "text/plain": [
              "dict_values([9000, 500, 3500])"
            ]
          },
          "metadata": {},
          "execution_count": 133
        }
      ]
    },
    {
      "cell_type": "code",
      "source": [
        "## Acceder a la información"
      ],
      "metadata": {
        "id": "VVyOqG_14mD6"
      },
      "execution_count": 134,
      "outputs": []
    },
    {
      "cell_type": "code",
      "source": [
        "PreciosFrutas.get(\"banana\")"
      ],
      "metadata": {
        "colab": {
          "base_uri": "https://localhost:8080/"
        },
        "id": "BGuzb5Gy4qjr",
        "outputId": "3b215b68-f8d0-4042-e67d-c8b9f03e0099"
      },
      "execution_count": 135,
      "outputs": [
        {
          "output_type": "execute_result",
          "data": {
            "text/plain": [
              "500"
            ]
          },
          "metadata": {},
          "execution_count": 135
        }
      ]
    },
    {
      "cell_type": "code",
      "source": [
        "PreciosFrutas[\"Manzana\"]"
      ],
      "metadata": {
        "colab": {
          "base_uri": "https://localhost:8080/"
        },
        "id": "SEDAddJ84td8",
        "outputId": "e0ab8997-4423-45ef-c8f8-70671df3094e"
      },
      "execution_count": 136,
      "outputs": [
        {
          "output_type": "execute_result",
          "data": {
            "text/plain": [
              "9000"
            ]
          },
          "metadata": {},
          "execution_count": 136
        }
      ]
    },
    {
      "cell_type": "code",
      "source": [
        "#PreciosFrutas[0]"
      ],
      "metadata": {
        "id": "Cj8jb2N14y1e"
      },
      "execution_count": 138,
      "outputs": []
    },
    {
      "cell_type": "code",
      "source": [
        "# Listas y diccionarios\n",
        "DiccionariosEstudiantes={\"Piedad\":[\"Python\",\"ML\",\"SLQ\",\"Inferencia Causal\"],\n",
        "                         \"Daniel\":[\"Fisica\",\"ML\",\"Series Tiempo\"]}"
      ],
      "metadata": {
        "id": "zbTag3KI40kM"
      },
      "execution_count": 139,
      "outputs": []
    },
    {
      "cell_type": "code",
      "source": [
        "DiccionariosEstudiantes.get(\"Daniel\")"
      ],
      "metadata": {
        "colab": {
          "base_uri": "https://localhost:8080/"
        },
        "id": "rEsd0gHo5nze",
        "outputId": "0f8380da-348f-4041-8d63-23de3d2137ff"
      },
      "execution_count": 140,
      "outputs": [
        {
          "output_type": "execute_result",
          "data": {
            "text/plain": [
              "['Fisica', 'ML', 'Series Tiempo']"
            ]
          },
          "metadata": {},
          "execution_count": 140
        }
      ]
    },
    {
      "cell_type": "code",
      "source": [
        "DiccionariosEstudiantes[\"Daniel\"]"
      ],
      "metadata": {
        "colab": {
          "base_uri": "https://localhost:8080/"
        },
        "id": "dYwZ90CY5qhE",
        "outputId": "29061f3d-5ee2-46bd-cd04-5fae4e9d03d7"
      },
      "execution_count": 141,
      "outputs": [
        {
          "output_type": "execute_result",
          "data": {
            "text/plain": [
              "['Fisica', 'ML', 'Series Tiempo']"
            ]
          },
          "metadata": {},
          "execution_count": 141
        }
      ]
    },
    {
      "cell_type": "code",
      "source": [
        "DiccionariosEstudiantes.keys()"
      ],
      "metadata": {
        "colab": {
          "base_uri": "https://localhost:8080/"
        },
        "id": "d89dMTRj5sDy",
        "outputId": "ec72c196-ca68-494a-d16d-3cf5f59c5326"
      },
      "execution_count": 143,
      "outputs": [
        {
          "output_type": "execute_result",
          "data": {
            "text/plain": [
              "dict_keys(['Piedad', 'Daniel'])"
            ]
          },
          "metadata": {},
          "execution_count": 143
        }
      ]
    },
    {
      "cell_type": "code",
      "source": [
        "DiccionariosEstudiantes[\"Daniel\"][-1]"
      ],
      "metadata": {
        "colab": {
          "base_uri": "https://localhost:8080/",
          "height": 35
        },
        "id": "8Cv670mN5uQC",
        "outputId": "791fc689-c6d3-4d45-d934-58daca811c43"
      },
      "execution_count": 144,
      "outputs": [
        {
          "output_type": "execute_result",
          "data": {
            "text/plain": [
              "'Series Tiempo'"
            ],
            "application/vnd.google.colaboratory.intrinsic+json": {
              "type": "string"
            }
          },
          "metadata": {},
          "execution_count": 144
        }
      ]
    },
    {
      "cell_type": "code",
      "source": [
        "Lista_Edad"
      ],
      "metadata": {
        "colab": {
          "base_uri": "https://localhost:8080/"
        },
        "id": "B5eUVCBv5xzz",
        "outputId": "c2f12e29-155b-4f68-ae0b-4abdb8a7ebc2"
      },
      "execution_count": 145,
      "outputs": [
        {
          "output_type": "execute_result",
          "data": {
            "text/plain": [
              "[80, 62, 25, 35, 45, 25, 18, 49, 37, 85, 100, 17, 17]"
            ]
          },
          "metadata": {},
          "execution_count": 145
        }
      ]
    },
    {
      "cell_type": "markdown",
      "source": [
        "# 4) **Extructuras de Pandas**\n",
        "\n",
        "Pandas: Biblioteca para la manipulación y análisis de datos que proporciona estructuras de datos como DataFrames y Series, que facilitan el trabajo con datos estructurados."
      ],
      "metadata": {
        "id": "NMK09QGl6LsI"
      }
    },
    {
      "cell_type": "code",
      "source": [
        "#!pip install pandas"
      ],
      "metadata": {
        "id": "4LVUhCYx6H91"
      },
      "execution_count": 147,
      "outputs": []
    },
    {
      "cell_type": "code",
      "source": [
        "#conda install pandas"
      ],
      "metadata": {
        "id": "3oqAK-9r6kg5"
      },
      "execution_count": 148,
      "outputs": []
    },
    {
      "cell_type": "code",
      "source": [
        "# Importar Librerias\n",
        "import pandas"
      ],
      "metadata": {
        "id": "Wm0kNF7B6uLL"
      },
      "execution_count": 149,
      "outputs": []
    },
    {
      "cell_type": "code",
      "source": [
        "## Importación con alias o de firma indirecta\n",
        "import pandas as pd"
      ],
      "metadata": {
        "id": "nJ3LOmZW63ic"
      },
      "execution_count": 150,
      "outputs": []
    },
    {
      "cell_type": "markdown",
      "source": [
        "## **4.1) Series Pandas**\n",
        "\n",
        "En Pandas, una serie es un objeto unidimensional que se utiliza para almacenar datos etiquetados. Las series son similares a las listas o arrays de NumPy, pero tienen la capacidad adicional de asignar etiquetas a los datos, lo que permite un acceso más rápido y fácil a los datos almacenados."
      ],
      "metadata": {
        "id": "vRTwBfLW7L5v"
      }
    },
    {
      "cell_type": "code",
      "source": [
        "Lista_Edad"
      ],
      "metadata": {
        "colab": {
          "base_uri": "https://localhost:8080/"
        },
        "id": "PGQviMHN7COd",
        "outputId": "581c4d8f-62ea-44bf-b7e1-87018f7d1145"
      },
      "execution_count": 151,
      "outputs": [
        {
          "output_type": "execute_result",
          "data": {
            "text/plain": [
              "[80, 62, 25, 35, 45, 25, 18, 49, 37, 85, 100, 17, 17]"
            ]
          },
          "metadata": {},
          "execution_count": 151
        }
      ]
    },
    {
      "cell_type": "code",
      "source": [
        "SerieEdad=pd.Series(Lista_Edad) # Una lista a una serie"
      ],
      "metadata": {
        "id": "fdemLPCq7bjB"
      },
      "execution_count": 154,
      "outputs": []
    },
    {
      "cell_type": "code",
      "source": [
        "print(SerieEdad)"
      ],
      "metadata": {
        "colab": {
          "base_uri": "https://localhost:8080/"
        },
        "id": "3mxK8wWc7qZC",
        "outputId": "e6f19dfc-801b-40c6-f96e-032d7ff3f704"
      },
      "execution_count": 155,
      "outputs": [
        {
          "output_type": "stream",
          "name": "stdout",
          "text": [
            "0      80\n",
            "1      62\n",
            "2      25\n",
            "3      35\n",
            "4      45\n",
            "5      25\n",
            "6      18\n",
            "7      49\n",
            "8      37\n",
            "9      85\n",
            "10    100\n",
            "11     17\n",
            "12     17\n",
            "dtype: int64\n"
          ]
        }
      ]
    },
    {
      "cell_type": "code",
      "source": [
        "## Diccionario a una serie"
      ],
      "metadata": {
        "id": "EZYALQXQ7ski"
      },
      "execution_count": 156,
      "outputs": []
    },
    {
      "cell_type": "code",
      "source": [
        "PreciosFrutas"
      ],
      "metadata": {
        "colab": {
          "base_uri": "https://localhost:8080/"
        },
        "id": "MdGShAsv7z7U",
        "outputId": "d846660c-0ee7-452b-b6f3-8409bf5141f9"
      },
      "execution_count": 157,
      "outputs": [
        {
          "output_type": "execute_result",
          "data": {
            "text/plain": [
              "{'Manzana': 9000, 'banana': 500, 'naranja': 3500}"
            ]
          },
          "metadata": {},
          "execution_count": 157
        }
      ]
    },
    {
      "cell_type": "code",
      "source": [
        "SeriePreciosFrutas=pd.Series(PreciosFrutas)"
      ],
      "metadata": {
        "id": "YcFCTgRm75Ok"
      },
      "execution_count": 158,
      "outputs": []
    },
    {
      "cell_type": "code",
      "source": [
        "SeriePreciosFrutas"
      ],
      "metadata": {
        "colab": {
          "base_uri": "https://localhost:8080/"
        },
        "id": "DYnD9cjQ8Fd2",
        "outputId": "78f56c58-7caa-4e3f-ae23-5f8a35b02d35"
      },
      "execution_count": 159,
      "outputs": [
        {
          "output_type": "execute_result",
          "data": {
            "text/plain": [
              "Manzana    9000\n",
              "banana      500\n",
              "naranja    3500\n",
              "dtype: int64"
            ]
          },
          "metadata": {},
          "execution_count": 159
        }
      ]
    },
    {
      "cell_type": "code",
      "source": [
        "SeriePreciosFrutas[\"Manzana\"]"
      ],
      "metadata": {
        "colab": {
          "base_uri": "https://localhost:8080/"
        },
        "id": "7g9-w9XQ8Ggl",
        "outputId": "4c9a3609-e19e-4610-966e-311627052a57"
      },
      "execution_count": 160,
      "outputs": [
        {
          "output_type": "execute_result",
          "data": {
            "text/plain": [
              "9000"
            ]
          },
          "metadata": {},
          "execution_count": 160
        }
      ]
    },
    {
      "cell_type": "code",
      "source": [
        "SeriePreciosFrutas[0]"
      ],
      "metadata": {
        "colab": {
          "base_uri": "https://localhost:8080/"
        },
        "id": "edqfjivC8PQ3",
        "outputId": "c4165cf9-72c8-437f-9b53-9785921214dd"
      },
      "execution_count": 163,
      "outputs": [
        {
          "output_type": "execute_result",
          "data": {
            "text/plain": [
              "9000"
            ]
          },
          "metadata": {},
          "execution_count": 163
        }
      ]
    },
    {
      "cell_type": "markdown",
      "source": [
        "## **4.2)DataFrame en Python (Tablas filas y columnas)**\n",
        "\n",
        "En Python, un DataFrame es una estructura de datos bidimensional, similar a una hoja de cálculo o una tabla de base de datos, que se utiliza para almacenar y manipular datos. Los DataFrames se utilizan comúnmente en el análisis de datos y la ciencia de datos, ya que permiten organizar y manipular grandes cantidades de datos de manera eficiente."
      ],
      "metadata": {
        "id": "FRcuv63O8huL"
      }
    },
    {
      "cell_type": "code",
      "source": [
        "Nombre=[\"Ana\",\"Pedro\",\"Julian\",\"Maria\",\"Ricardo\"]\n",
        "Edad=[25,36,38,22,50]\n",
        "Salario=[3000000,5000000,3600000,100000000,1500000]\n",
        "Cargo=[\"Analista Contable\",\"Desarrollador\",\"Analista BI\",\"Influencer\",\"Operario\"]\n",
        "Producto=[\"TC Plata\",\"TC ORO\",\"TC Plata\",\"TC VIP\",\"TC Normal\"]"
      ],
      "metadata": {
        "id": "TACIai4W8RiX"
      },
      "execution_count": 166,
      "outputs": []
    },
    {
      "cell_type": "code",
      "source": [
        "BaseDatos=pd.DataFrame({\"Nombre\":Nombre,\n",
        "                        \"Edad\":Edad,\n",
        "                        \"Salario\":Salario,\n",
        "                        \"Cargo\":Cargo,\n",
        "                        \"Producto\":Producto})"
      ],
      "metadata": {
        "id": "9gAPJZv09MAJ"
      },
      "execution_count": 167,
      "outputs": []
    },
    {
      "cell_type": "code",
      "source": [
        "BaseDatos"
      ],
      "metadata": {
        "colab": {
          "base_uri": "https://localhost:8080/",
          "height": 206
        },
        "id": "Ylcf9vEy-ByO",
        "outputId": "59793a31-e575-43b4-951d-df0dae92f00e"
      },
      "execution_count": 170,
      "outputs": [
        {
          "output_type": "execute_result",
          "data": {
            "text/plain": [
              "    Nombre  Edad    Salario              Cargo   Producto\n",
              "0      Ana    25    3000000  Analista Contable   TC Plata\n",
              "1    Pedro    36    5000000      Desarrollador     TC ORO\n",
              "2   Julian    38    3600000        Analista BI   TC Plata\n",
              "3    Maria    22  100000000         Influencer     TC VIP\n",
              "4  Ricardo    50    1500000           Operario  TC Normal"
            ],
            "text/html": [
              "\n",
              "\n",
              "  <div id=\"df-e221255f-cb0c-4c4e-91ab-53ed5ceb4201\">\n",
              "    <div class=\"colab-df-container\">\n",
              "      <div>\n",
              "<style scoped>\n",
              "    .dataframe tbody tr th:only-of-type {\n",
              "        vertical-align: middle;\n",
              "    }\n",
              "\n",
              "    .dataframe tbody tr th {\n",
              "        vertical-align: top;\n",
              "    }\n",
              "\n",
              "    .dataframe thead th {\n",
              "        text-align: right;\n",
              "    }\n",
              "</style>\n",
              "<table border=\"1\" class=\"dataframe\">\n",
              "  <thead>\n",
              "    <tr style=\"text-align: right;\">\n",
              "      <th></th>\n",
              "      <th>Nombre</th>\n",
              "      <th>Edad</th>\n",
              "      <th>Salario</th>\n",
              "      <th>Cargo</th>\n",
              "      <th>Producto</th>\n",
              "    </tr>\n",
              "  </thead>\n",
              "  <tbody>\n",
              "    <tr>\n",
              "      <th>0</th>\n",
              "      <td>Ana</td>\n",
              "      <td>25</td>\n",
              "      <td>3000000</td>\n",
              "      <td>Analista Contable</td>\n",
              "      <td>TC Plata</td>\n",
              "    </tr>\n",
              "    <tr>\n",
              "      <th>1</th>\n",
              "      <td>Pedro</td>\n",
              "      <td>36</td>\n",
              "      <td>5000000</td>\n",
              "      <td>Desarrollador</td>\n",
              "      <td>TC ORO</td>\n",
              "    </tr>\n",
              "    <tr>\n",
              "      <th>2</th>\n",
              "      <td>Julian</td>\n",
              "      <td>38</td>\n",
              "      <td>3600000</td>\n",
              "      <td>Analista BI</td>\n",
              "      <td>TC Plata</td>\n",
              "    </tr>\n",
              "    <tr>\n",
              "      <th>3</th>\n",
              "      <td>Maria</td>\n",
              "      <td>22</td>\n",
              "      <td>100000000</td>\n",
              "      <td>Influencer</td>\n",
              "      <td>TC VIP</td>\n",
              "    </tr>\n",
              "    <tr>\n",
              "      <th>4</th>\n",
              "      <td>Ricardo</td>\n",
              "      <td>50</td>\n",
              "      <td>1500000</td>\n",
              "      <td>Operario</td>\n",
              "      <td>TC Normal</td>\n",
              "    </tr>\n",
              "  </tbody>\n",
              "</table>\n",
              "</div>\n",
              "      <button class=\"colab-df-convert\" onclick=\"convertToInteractive('df-e221255f-cb0c-4c4e-91ab-53ed5ceb4201')\"\n",
              "              title=\"Convert this dataframe to an interactive table.\"\n",
              "              style=\"display:none;\">\n",
              "\n",
              "  <svg xmlns=\"http://www.w3.org/2000/svg\" height=\"24px\"viewBox=\"0 0 24 24\"\n",
              "       width=\"24px\">\n",
              "    <path d=\"M0 0h24v24H0V0z\" fill=\"none\"/>\n",
              "    <path d=\"M18.56 5.44l.94 2.06.94-2.06 2.06-.94-2.06-.94-.94-2.06-.94 2.06-2.06.94zm-11 1L8.5 8.5l.94-2.06 2.06-.94-2.06-.94L8.5 2.5l-.94 2.06-2.06.94zm10 10l.94 2.06.94-2.06 2.06-.94-2.06-.94-.94-2.06-.94 2.06-2.06.94z\"/><path d=\"M17.41 7.96l-1.37-1.37c-.4-.4-.92-.59-1.43-.59-.52 0-1.04.2-1.43.59L10.3 9.45l-7.72 7.72c-.78.78-.78 2.05 0 2.83L4 21.41c.39.39.9.59 1.41.59.51 0 1.02-.2 1.41-.59l7.78-7.78 2.81-2.81c.8-.78.8-2.07 0-2.86zM5.41 20L4 18.59l7.72-7.72 1.47 1.35L5.41 20z\"/>\n",
              "  </svg>\n",
              "      </button>\n",
              "\n",
              "\n",
              "\n",
              "    <div id=\"df-827ea038-8706-44f3-aec9-1da0fe262854\">\n",
              "      <button class=\"colab-df-quickchart\" onclick=\"quickchart('df-827ea038-8706-44f3-aec9-1da0fe262854')\"\n",
              "              title=\"Suggest charts.\"\n",
              "              style=\"display:none;\">\n",
              "\n",
              "<svg xmlns=\"http://www.w3.org/2000/svg\" height=\"24px\"viewBox=\"0 0 24 24\"\n",
              "     width=\"24px\">\n",
              "    <g>\n",
              "        <path d=\"M19 3H5c-1.1 0-2 .9-2 2v14c0 1.1.9 2 2 2h14c1.1 0 2-.9 2-2V5c0-1.1-.9-2-2-2zM9 17H7v-7h2v7zm4 0h-2V7h2v10zm4 0h-2v-4h2v4z\"/>\n",
              "    </g>\n",
              "</svg>\n",
              "      </button>\n",
              "    </div>\n",
              "\n",
              "<style>\n",
              "  .colab-df-quickchart {\n",
              "    background-color: #E8F0FE;\n",
              "    border: none;\n",
              "    border-radius: 50%;\n",
              "    cursor: pointer;\n",
              "    display: none;\n",
              "    fill: #1967D2;\n",
              "    height: 32px;\n",
              "    padding: 0 0 0 0;\n",
              "    width: 32px;\n",
              "  }\n",
              "\n",
              "  .colab-df-quickchart:hover {\n",
              "    background-color: #E2EBFA;\n",
              "    box-shadow: 0px 1px 2px rgba(60, 64, 67, 0.3), 0px 1px 3px 1px rgba(60, 64, 67, 0.15);\n",
              "    fill: #174EA6;\n",
              "  }\n",
              "\n",
              "  [theme=dark] .colab-df-quickchart {\n",
              "    background-color: #3B4455;\n",
              "    fill: #D2E3FC;\n",
              "  }\n",
              "\n",
              "  [theme=dark] .colab-df-quickchart:hover {\n",
              "    background-color: #434B5C;\n",
              "    box-shadow: 0px 1px 3px 1px rgba(0, 0, 0, 0.15);\n",
              "    filter: drop-shadow(0px 1px 2px rgba(0, 0, 0, 0.3));\n",
              "    fill: #FFFFFF;\n",
              "  }\n",
              "</style>\n",
              "\n",
              "    <script>\n",
              "      async function quickchart(key) {\n",
              "        const containerElement = document.querySelector('#' + key);\n",
              "        const charts = await google.colab.kernel.invokeFunction(\n",
              "            'suggestCharts', [key], {});\n",
              "      }\n",
              "    </script>\n",
              "\n",
              "\n",
              "      <script>\n",
              "\n",
              "function displayQuickchartButton(domScope) {\n",
              "  let quickchartButtonEl =\n",
              "    domScope.querySelector('#df-827ea038-8706-44f3-aec9-1da0fe262854 button.colab-df-quickchart');\n",
              "  quickchartButtonEl.style.display =\n",
              "    google.colab.kernel.accessAllowed ? 'block' : 'none';\n",
              "}\n",
              "\n",
              "        displayQuickchartButton(document);\n",
              "      </script>\n",
              "      <style>\n",
              "    .colab-df-container {\n",
              "      display:flex;\n",
              "      flex-wrap:wrap;\n",
              "      gap: 12px;\n",
              "    }\n",
              "\n",
              "    .colab-df-convert {\n",
              "      background-color: #E8F0FE;\n",
              "      border: none;\n",
              "      border-radius: 50%;\n",
              "      cursor: pointer;\n",
              "      display: none;\n",
              "      fill: #1967D2;\n",
              "      height: 32px;\n",
              "      padding: 0 0 0 0;\n",
              "      width: 32px;\n",
              "    }\n",
              "\n",
              "    .colab-df-convert:hover {\n",
              "      background-color: #E2EBFA;\n",
              "      box-shadow: 0px 1px 2px rgba(60, 64, 67, 0.3), 0px 1px 3px 1px rgba(60, 64, 67, 0.15);\n",
              "      fill: #174EA6;\n",
              "    }\n",
              "\n",
              "    [theme=dark] .colab-df-convert {\n",
              "      background-color: #3B4455;\n",
              "      fill: #D2E3FC;\n",
              "    }\n",
              "\n",
              "    [theme=dark] .colab-df-convert:hover {\n",
              "      background-color: #434B5C;\n",
              "      box-shadow: 0px 1px 3px 1px rgba(0, 0, 0, 0.15);\n",
              "      filter: drop-shadow(0px 1px 2px rgba(0, 0, 0, 0.3));\n",
              "      fill: #FFFFFF;\n",
              "    }\n",
              "  </style>\n",
              "\n",
              "      <script>\n",
              "        const buttonEl =\n",
              "          document.querySelector('#df-e221255f-cb0c-4c4e-91ab-53ed5ceb4201 button.colab-df-convert');\n",
              "        buttonEl.style.display =\n",
              "          google.colab.kernel.accessAllowed ? 'block' : 'none';\n",
              "\n",
              "        async function convertToInteractive(key) {\n",
              "          const element = document.querySelector('#df-e221255f-cb0c-4c4e-91ab-53ed5ceb4201');\n",
              "          const dataTable =\n",
              "            await google.colab.kernel.invokeFunction('convertToInteractive',\n",
              "                                                     [key], {});\n",
              "          if (!dataTable) return;\n",
              "\n",
              "          const docLinkHtml = 'Like what you see? Visit the ' +\n",
              "            '<a target=\"_blank\" href=https://colab.research.google.com/notebooks/data_table.ipynb>data table notebook</a>'\n",
              "            + ' to learn more about interactive tables.';\n",
              "          element.innerHTML = '';\n",
              "          dataTable['output_type'] = 'display_data';\n",
              "          await google.colab.output.renderOutput(dataTable, element);\n",
              "          const docLink = document.createElement('div');\n",
              "          docLink.innerHTML = docLinkHtml;\n",
              "          element.appendChild(docLink);\n",
              "        }\n",
              "      </script>\n",
              "    </div>\n",
              "  </div>\n"
            ]
          },
          "metadata": {},
          "execution_count": 170
        }
      ]
    },
    {
      "cell_type": "markdown",
      "source": [
        "# **Exportar BD**"
      ],
      "metadata": {
        "id": "AaIfD04T-Qfb"
      }
    },
    {
      "cell_type": "code",
      "source": [
        "## Excel, ruta de trabjo\n",
        "BaseDatos.to_excel(\"/content/drive/MyDrive/Diplomado_2023_2/Introduccion Python/bd_clientes.xlsx\",index=False)"
      ],
      "metadata": {
        "id": "ApbKnk4o-Cx9"
      },
      "execution_count": 171,
      "outputs": []
    },
    {
      "cell_type": "code",
      "source": [
        "## csv, ruta de trabjo\n",
        "BaseDatos.to_csv(\"/content/drive/MyDrive/Diplomado_2023_2/Introduccion Python/bd_clientes.csv\",index=False)"
      ],
      "metadata": {
        "id": "SF0GY-Sq-tvP"
      },
      "execution_count": 172,
      "outputs": []
    },
    {
      "cell_type": "code",
      "source": [],
      "metadata": {
        "id": "vfRAPsle-9tx"
      },
      "execution_count": null,
      "outputs": []
    }
  ]
}